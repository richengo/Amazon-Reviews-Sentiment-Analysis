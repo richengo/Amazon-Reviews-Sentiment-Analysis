{
 "cells": [
  {
   "cell_type": "markdown",
   "metadata": {},
   "source": [
    "# Amazon Reviews Sentiment Analysis\n",
    "\n",
    "______________________\n",
    "\n",
    "## Part 1: EDA, Cleaning\n",
    "\n",
    "### Riche Ngo"
   ]
  },
  {
   "cell_type": "markdown",
   "metadata": {},
   "source": [
    "### Amazon Reviews for Electronics\n",
    "\n",
    "Data from [link](https://nijianmo.github.io/amazon/index.html).\n",
    "\n",
    "The total number of reviews is 233.1 million (142.8 million in 2014).  \n",
    "Current data includes reviews in the range May 1996 - Oct 2018.  \n",
    "\n",
    "We will only be looking at 2018 reviews."
   ]
  },
  {
   "cell_type": "code",
   "execution_count": 1,
   "metadata": {},
   "outputs": [],
   "source": [
    "# Importing libraries\n",
    "import pandas as pd\n",
    "import numpy as np\n",
    "import matplotlib.pyplot as plt\n",
    "import pickle\n",
    "\n",
    "from bs4 import BeautifulSoup   "
   ]
  },
  {
   "cell_type": "markdown",
   "metadata": {},
   "source": [
    "## Reviews Data\n",
    "\n",
    "### Import data\n",
    "\n",
    "In this notebook, we are exploring \"small\" subsets of the original data for experimentation.\n",
    "\n",
    "K-cores (i.e., dense subsets): These data have been reduced to extract the k-core, such that each of the remaining users and items have k reviews each.\n",
    "\n",
    "In this notebook, K=5."
   ]
  },
  {
   "cell_type": "markdown",
   "metadata": {},
   "source": [
    "Contents of the data:  \n",
    "* reviewerID - ID of the reviewer, e.g. A2SUAM1J3GNN3B\n",
    "* asin - ID of the product, e.g. 0000013714\n",
    "* reviewerName - name of the reviewer\n",
    "* vote - helpful votes of the review\n",
    "* style - a disctionary of the product metadata, e.g., \"Format\" is \"Hardcover\"\n",
    "* reviewText - text of the review\n",
    "* overall - rating of the product\n",
    "* summary - summary of the review\n",
    "* unixReviewTime - time of the review (unix time)\n",
    "* reviewTime - time of the review (raw)\n",
    "* image - images that users post after they have received the product"
   ]
  },
  {
   "cell_type": "code",
   "execution_count": 2,
   "metadata": {},
   "outputs": [],
   "source": [
    "# Read csv\n",
    "df = pd.read_csv('../datasets/amazon_reviews_electronics/Electronics_5_2018.csv')"
   ]
  },
  {
   "cell_type": "code",
   "execution_count": 3,
   "metadata": {},
   "outputs": [
    {
     "data": {
      "text/html": [
       "<div>\n",
       "<style scoped>\n",
       "    .dataframe tbody tr th:only-of-type {\n",
       "        vertical-align: middle;\n",
       "    }\n",
       "\n",
       "    .dataframe tbody tr th {\n",
       "        vertical-align: top;\n",
       "    }\n",
       "\n",
       "    .dataframe thead th {\n",
       "        text-align: right;\n",
       "    }\n",
       "</style>\n",
       "<table border=\"1\" class=\"dataframe\">\n",
       "  <thead>\n",
       "    <tr style=\"text-align: right;\">\n",
       "      <th></th>\n",
       "      <th>overall</th>\n",
       "      <th>verified</th>\n",
       "      <th>reviewTime</th>\n",
       "      <th>reviewerID</th>\n",
       "      <th>asin</th>\n",
       "      <th>style</th>\n",
       "      <th>reviewerName</th>\n",
       "      <th>reviewText</th>\n",
       "      <th>summary</th>\n",
       "      <th>unixReviewTime</th>\n",
       "      <th>vote</th>\n",
       "      <th>image</th>\n",
       "    </tr>\n",
       "  </thead>\n",
       "  <tbody>\n",
       "    <tr>\n",
       "      <th>0</th>\n",
       "      <td>5.0</td>\n",
       "      <td>True</td>\n",
       "      <td>01 27, 2018</td>\n",
       "      <td>A1XSPKZ8HHSBX2</td>\n",
       "      <td>073530498X</td>\n",
       "      <td>{'Format:': ' Spiral-bound'}</td>\n",
       "      <td>Problematic1963</td>\n",
       "      <td>I made a photo album for a senior friend who w...</td>\n",
       "      <td>great buy</td>\n",
       "      <td>1517011200</td>\n",
       "      <td>NaN</td>\n",
       "      <td>NaN</td>\n",
       "    </tr>\n",
       "    <tr>\n",
       "      <th>1</th>\n",
       "      <td>5.0</td>\n",
       "      <td>True</td>\n",
       "      <td>04 1, 2018</td>\n",
       "      <td>A3G5NNV6T6JA8J</td>\n",
       "      <td>106171327X</td>\n",
       "      <td>NaN</td>\n",
       "      <td>Tazman32</td>\n",
       "      <td>Great addition to our new Galaxy S9's which, b...</td>\n",
       "      <td>Great addition to our new Galaxy S9's which</td>\n",
       "      <td>1522540800</td>\n",
       "      <td>NaN</td>\n",
       "      <td>NaN</td>\n",
       "    </tr>\n",
       "    <tr>\n",
       "      <th>2</th>\n",
       "      <td>5.0</td>\n",
       "      <td>True</td>\n",
       "      <td>03 30, 2018</td>\n",
       "      <td>AFML7PYI3LERI</td>\n",
       "      <td>106171327X</td>\n",
       "      <td>NaN</td>\n",
       "      <td>Brian D. Carrico</td>\n",
       "      <td>Perfect !</td>\n",
       "      <td>Five Stars</td>\n",
       "      <td>1522368000</td>\n",
       "      <td>NaN</td>\n",
       "      <td>NaN</td>\n",
       "    </tr>\n",
       "    <tr>\n",
       "      <th>3</th>\n",
       "      <td>4.0</td>\n",
       "      <td>True</td>\n",
       "      <td>03 30, 2018</td>\n",
       "      <td>A1G0HYMR02WM2W</td>\n",
       "      <td>106171327X</td>\n",
       "      <td>NaN</td>\n",
       "      <td>Cici Ciconia</td>\n",
       "      <td>As described.</td>\n",
       "      <td>Four Stars</td>\n",
       "      <td>1522368000</td>\n",
       "      <td>NaN</td>\n",
       "      <td>NaN</td>\n",
       "    </tr>\n",
       "    <tr>\n",
       "      <th>4</th>\n",
       "      <td>5.0</td>\n",
       "      <td>True</td>\n",
       "      <td>03 27, 2018</td>\n",
       "      <td>A1T8B3I8KRS3W0</td>\n",
       "      <td>106171327X</td>\n",
       "      <td>NaN</td>\n",
       "      <td>AJ</td>\n",
       "      <td>Great little card made my device better</td>\n",
       "      <td>Five Stars</td>\n",
       "      <td>1522108800</td>\n",
       "      <td>NaN</td>\n",
       "      <td>NaN</td>\n",
       "    </tr>\n",
       "  </tbody>\n",
       "</table>\n",
       "</div>"
      ],
      "text/plain": [
       "   overall  verified   reviewTime      reviewerID        asin  \\\n",
       "0      5.0      True  01 27, 2018  A1XSPKZ8HHSBX2  073530498X   \n",
       "1      5.0      True   04 1, 2018  A3G5NNV6T6JA8J  106171327X   \n",
       "2      5.0      True  03 30, 2018   AFML7PYI3LERI  106171327X   \n",
       "3      4.0      True  03 30, 2018  A1G0HYMR02WM2W  106171327X   \n",
       "4      5.0      True  03 27, 2018  A1T8B3I8KRS3W0  106171327X   \n",
       "\n",
       "                          style      reviewerName  \\\n",
       "0  {'Format:': ' Spiral-bound'}   Problematic1963   \n",
       "1                           NaN          Tazman32   \n",
       "2                           NaN  Brian D. Carrico   \n",
       "3                           NaN      Cici Ciconia   \n",
       "4                           NaN                AJ   \n",
       "\n",
       "                                          reviewText  \\\n",
       "0  I made a photo album for a senior friend who w...   \n",
       "1  Great addition to our new Galaxy S9's which, b...   \n",
       "2                                          Perfect !   \n",
       "3                                      As described.   \n",
       "4            Great little card made my device better   \n",
       "\n",
       "                                       summary  unixReviewTime  vote image  \n",
       "0                                    great buy      1517011200   NaN   NaN  \n",
       "1  Great addition to our new Galaxy S9's which      1522540800   NaN   NaN  \n",
       "2                                   Five Stars      1522368000   NaN   NaN  \n",
       "3                                   Four Stars      1522368000   NaN   NaN  \n",
       "4                                   Five Stars      1522108800   NaN   NaN  "
      ]
     },
     "execution_count": 3,
     "metadata": {},
     "output_type": "execute_result"
    }
   ],
   "source": [
    "df.head()"
   ]
  },
  {
   "cell_type": "code",
   "execution_count": 4,
   "metadata": {},
   "outputs": [
    {
     "data": {
      "text/plain": [
       "(377430, 12)"
      ]
     },
     "execution_count": 4,
     "metadata": {},
     "output_type": "execute_result"
    }
   ],
   "source": [
    "df.shape"
   ]
  },
  {
   "cell_type": "code",
   "execution_count": 5,
   "metadata": {},
   "outputs": [
    {
     "name": "stdout",
     "output_type": "stream",
     "text": [
      "<class 'pandas.core.frame.DataFrame'>\n",
      "RangeIndex: 377430 entries, 0 to 377429\n",
      "Data columns (total 12 columns):\n",
      " #   Column          Non-Null Count   Dtype  \n",
      "---  ------          --------------   -----  \n",
      " 0   overall         377430 non-null  float64\n",
      " 1   verified        377430 non-null  bool   \n",
      " 2   reviewTime      377430 non-null  object \n",
      " 3   reviewerID      377430 non-null  object \n",
      " 4   asin            377430 non-null  object \n",
      " 5   style           240764 non-null  object \n",
      " 6   reviewerName    377356 non-null  object \n",
      " 7   reviewText      377257 non-null  object \n",
      " 8   summary         377300 non-null  object \n",
      " 9   unixReviewTime  377430 non-null  int64  \n",
      " 10  vote            12133 non-null   float64\n",
      " 11  image           10509 non-null   object \n",
      "dtypes: bool(1), float64(2), int64(1), object(8)\n",
      "memory usage: 32.0+ MB\n"
     ]
    }
   ],
   "source": [
    "df.info()"
   ]
  },
  {
   "cell_type": "code",
   "execution_count": 6,
   "metadata": {},
   "outputs": [],
   "source": [
    "# Checks for people talking about movies in reviews\n",
    "# for i in range(5):\n",
    "#     print(df[df['reviewText'].str.contains('movie') == True]['reviewText'].values[i])\n",
    "#     print()"
   ]
  },
  {
   "cell_type": "markdown",
   "metadata": {},
   "source": [
    "### Missing Values"
   ]
  },
  {
   "cell_type": "code",
   "execution_count": 13,
   "metadata": {},
   "outputs": [
    {
     "data": {
      "text/plain": [
       "overall                0\n",
       "verified               0\n",
       "reviewTime             0\n",
       "reviewerID             0\n",
       "asin                   0\n",
       "style             136666\n",
       "reviewerName          74\n",
       "reviewText           173\n",
       "summary              130\n",
       "unixReviewTime         0\n",
       "vote              365297\n",
       "image             366921\n",
       "dtype: int64"
      ]
     },
     "execution_count": 13,
     "metadata": {},
     "output_type": "execute_result"
    }
   ],
   "source": [
    "df.isnull().sum()"
   ]
  },
  {
   "cell_type": "markdown",
   "metadata": {},
   "source": [
    "We will not be using the columns that have high numbers of null values anyway.\n",
    "\n",
    "There are missing reviewers' names but we can remove that column and just keep the reviewer IDs.\n",
    "\n",
    "We do not need 'verified', 'style', 'reviewerName', 'vote', 'image'."
   ]
  },
  {
   "cell_type": "code",
   "execution_count": 14,
   "metadata": {},
   "outputs": [],
   "source": [
    "# Extract the columns of concern\n",
    "reviews = df[['overall', 'reviewTime', 'reviewerID', 'asin', 'reviewText', 'summary', 'unixReviewTime']].copy()"
   ]
  },
  {
   "cell_type": "code",
   "execution_count": 15,
   "metadata": {},
   "outputs": [],
   "source": [
    "# Drop null values in row data\n",
    "reviews.dropna(inplace=True)"
   ]
  },
  {
   "cell_type": "code",
   "execution_count": 16,
   "metadata": {},
   "outputs": [
    {
     "data": {
      "text/plain": [
       "(377164, 7)"
      ]
     },
     "execution_count": 16,
     "metadata": {},
     "output_type": "execute_result"
    }
   ],
   "source": [
    "reviews.shape"
   ]
  },
  {
   "cell_type": "code",
   "execution_count": 18,
   "metadata": {},
   "outputs": [
    {
     "data": {
      "text/plain": [
       "overall           0\n",
       "reviewTime        0\n",
       "reviewerID        0\n",
       "asin              0\n",
       "reviewText        0\n",
       "summary           0\n",
       "unixReviewTime    0\n",
       "dtype: int64"
      ]
     },
     "execution_count": 18,
     "metadata": {},
     "output_type": "execute_result"
    }
   ],
   "source": [
    "# Check null values\n",
    "reviews.isnull().sum()"
   ]
  },
  {
   "cell_type": "code",
   "execution_count": 19,
   "metadata": {},
   "outputs": [],
   "source": [
    "# Save cleaned dataset as a pickle file\n",
    "outfile = open('../datasets/amazon_reviews_electronics/Electronics_reviews_2018.pkl','wb')\n",
    "pickle.dump(reviews, outfile)\n",
    "outfile.close()"
   ]
  },
  {
   "cell_type": "markdown",
   "metadata": {},
   "source": [
    "### Load `.pkl` file from here"
   ]
  },
  {
   "cell_type": "code",
   "execution_count": null,
   "metadata": {},
   "outputs": [],
   "source": [
    "# Use this to load previously saved .pkl file\n",
    "# infile = open('../datasets/amazon_reviews_electronics/Electronics_reviews_2018.pkl', 'rb')\n",
    "# reviews = pickle.load(infile)\n",
    "# infile.close()"
   ]
  },
  {
   "cell_type": "markdown",
   "metadata": {},
   "source": [
    "## Products Meta Data"
   ]
  },
  {
   "cell_type": "markdown",
   "metadata": {},
   "source": [
    "Contents of meta data:\n",
    "\n",
    "* asin - ID of the product, e.g. 0000031852\n",
    "* title - name of the product\n",
    "* feature - bullet-point format features of the product\n",
    "* description - description of the product\n",
    "* price - price in US dollars (at time of crawl)\n",
    "* image - url of the product image\n",
    "* related - related products (also bought, also viewed, bought together, buy after viewing)\n",
    "* salesRank - sales rank information\n",
    "* brand - brand name\n",
    "* categories - list of categories the product belongs to\n",
    "* tech1 - the first technical detail table of the product\n",
    "* tech2 - the second technical detail table of the product\n",
    "* similar - similar product table\n",
    "\n",
    "### Import data"
   ]
  },
  {
   "cell_type": "code",
   "execution_count": 20,
   "metadata": {},
   "outputs": [],
   "source": [
    "m_df = pd.read_csv('../datasets/amazon_reviews_electronics/meta_Electronics_2018.csv')"
   ]
  },
  {
   "cell_type": "code",
   "execution_count": 21,
   "metadata": {},
   "outputs": [
    {
     "data": {
      "text/html": [
       "<div>\n",
       "<style scoped>\n",
       "    .dataframe tbody tr th:only-of-type {\n",
       "        vertical-align: middle;\n",
       "    }\n",
       "\n",
       "    .dataframe tbody tr th {\n",
       "        vertical-align: top;\n",
       "    }\n",
       "\n",
       "    .dataframe thead th {\n",
       "        text-align: right;\n",
       "    }\n",
       "</style>\n",
       "<table border=\"1\" class=\"dataframe\">\n",
       "  <thead>\n",
       "    <tr style=\"text-align: right;\">\n",
       "      <th></th>\n",
       "      <th>category</th>\n",
       "      <th>tech1</th>\n",
       "      <th>description</th>\n",
       "      <th>fit</th>\n",
       "      <th>title</th>\n",
       "      <th>also_buy</th>\n",
       "      <th>image</th>\n",
       "      <th>tech2</th>\n",
       "      <th>brand</th>\n",
       "      <th>feature</th>\n",
       "      <th>rank</th>\n",
       "      <th>also_view</th>\n",
       "      <th>main_cat</th>\n",
       "      <th>similar_item</th>\n",
       "      <th>date</th>\n",
       "      <th>price</th>\n",
       "      <th>asin</th>\n",
       "      <th>details</th>\n",
       "    </tr>\n",
       "  </thead>\n",
       "  <tbody>\n",
       "    <tr>\n",
       "      <th>0</th>\n",
       "      <td>['Electronics', 'Accessories &amp;amp; Supplies', ...</td>\n",
       "      <td>NaN</td>\n",
       "      <td>['The CLIKR-5 UR5U-8780L remote control is des...</td>\n",
       "      <td>NaN</td>\n",
       "      <td>CLIKR-5 Time Warner Cable Remote Control UR5U-...</td>\n",
       "      <td>['B06VTZK822', 'B00OSI6O7S']</td>\n",
       "      <td>['https://images-na.ssl-images-amazon.com/imag...</td>\n",
       "      <td>NaN</td>\n",
       "      <td>URC</td>\n",
       "      <td>['Instruction manual included']</td>\n",
       "      <td>['&gt;#4,971 in Electronics &amp;gt; Accessories &amp;amp...</td>\n",
       "      <td>['B06VTZK822', 'B00OSI6O7S', 'B00KUL8O0W', 'B0...</td>\n",
       "      <td>All Electronics</td>\n",
       "      <td>class=\"a-bordered a-horizontal-stripes  a-spa...</td>\n",
       "      <td>January 31, 2013</td>\n",
       "      <td>NaN</td>\n",
       "      <td>0511189877</td>\n",
       "      <td>NaN</td>\n",
       "    </tr>\n",
       "    <tr>\n",
       "      <th>1</th>\n",
       "      <td>['Electronics', 'GPS, Finders &amp; Accessories', ...</td>\n",
       "      <td>NaN</td>\n",
       "      <td>['**** Shipped by 2-3 DAY UNITED STATES PRIORI...</td>\n",
       "      <td>NaN</td>\n",
       "      <td>Rand McNally 528881469 7-inch Intelliroute TND...</td>\n",
       "      <td>[]</td>\n",
       "      <td>['https://images-na.ssl-images-amazon.com/imag...</td>\n",
       "      <td>NaN</td>\n",
       "      <td>Rand McNally</td>\n",
       "      <td>['Extra large 7-inch high-definition screen', ...</td>\n",
       "      <td>['&gt;#60 in Electronics &gt; GPS &amp; Navigation &gt; Veh...</td>\n",
       "      <td>['B00RVGXZBM', 'B00N58RZ34', 'B07FKR7VZ4', 'B0...</td>\n",
       "      <td>All Electronics</td>\n",
       "      <td>NaN</td>\n",
       "      <td>April 15, 2010</td>\n",
       "      <td>NaN</td>\n",
       "      <td>0528881469</td>\n",
       "      <td>NaN</td>\n",
       "    </tr>\n",
       "    <tr>\n",
       "      <th>2</th>\n",
       "      <td>['Electronics', 'Computers &amp;amp; Accessories',...</td>\n",
       "      <td>class=\"a-keyvalue prodDetTable\" role=\"present...</td>\n",
       "      <td>['Nook HD protective stand cover slim, smart a...</td>\n",
       "      <td>NaN</td>\n",
       "      <td>Nook Hd + 9-Inch Groovy Protective Stand Cover...</td>\n",
       "      <td>['B00E9IKYKK', '1400699169', 'B00E9ISXPS', 'B0...</td>\n",
       "      <td>['https://images-na.ssl-images-amazon.com/imag...</td>\n",
       "      <td>class=\"a-keyvalue prodDetTable\" role=\"present...</td>\n",
       "      <td>Nook</td>\n",
       "      <td>['Custom designed for NOOK', 'Horizontal Viewi...</td>\n",
       "      <td>['&gt;#24,362 in Computers &amp;amp; Accessories &amp;gt;...</td>\n",
       "      <td>['B010CHS6PG', 'B00B8EG632', 'B01FY2BAYS', 'B0...</td>\n",
       "      <td>Computers</td>\n",
       "      <td>class=\"a-bordered a-horizontal-stripes  a-spa...</td>\n",
       "      <td>April 20, 2013</td>\n",
       "      <td>NaN</td>\n",
       "      <td>0594450268</td>\n",
       "      <td>NaN</td>\n",
       "    </tr>\n",
       "    <tr>\n",
       "      <th>3</th>\n",
       "      <td>['Electronics', 'eBook Readers &amp;amp; Accessori...</td>\n",
       "      <td>class=\"a-keyvalue prodDetTable\" role=\"present...</td>\n",
       "      <td>['Original Barnes &amp;amp; Noble Nook Color or Ta...</td>\n",
       "      <td>NaN</td>\n",
       "      <td>Barnes &amp;amp; Noble Nook Color Tablet USB Cable...</td>\n",
       "      <td>[]</td>\n",
       "      <td>['https://images-na.ssl-images-amazon.com/imag...</td>\n",
       "      <td>NaN</td>\n",
       "      <td>Barnes &amp;amp; Noble</td>\n",
       "      <td>['&lt;span&gt;\\n        BUY MORE AND SAVE! Purchase ...</td>\n",
       "      <td>['&gt;#24 in Electronics &amp;gt; eBook Readers &amp;amp;...</td>\n",
       "      <td>['B01C31MQA0', 'B00AZRHYKW', 'B01MG3HKUX', 'B0...</td>\n",
       "      <td>Portable Audio &amp;amp; Accessories</td>\n",
       "      <td>NaN</td>\n",
       "      <td>August 1, 2014</td>\n",
       "      <td>$6.04</td>\n",
       "      <td>0594459451</td>\n",
       "      <td>NaN</td>\n",
       "    </tr>\n",
       "    <tr>\n",
       "      <th>4</th>\n",
       "      <td>['Electronics', 'Camera &amp;amp; Photo', 'Lightin...</td>\n",
       "      <td>NaN</td>\n",
       "      <td>['', '']</td>\n",
       "      <td>NaN</td>\n",
       "      <td>Vintage Camera Photo Album</td>\n",
       "      <td>['1441310533', '1935414763', '1441317422', 'B0...</td>\n",
       "      <td>[]</td>\n",
       "      <td>NaN</td>\n",
       "      <td>Visit Amazon's Galison Page</td>\n",
       "      <td>[]</td>\n",
       "      <td>3,298 in Books (</td>\n",
       "      <td>['1441310533', 'B01JAVJZ46', 'B00LJWNO7Y', 'B0...</td>\n",
       "      <td>Books</td>\n",
       "      <td>NaN</td>\n",
       "      <td>NaN</td>\n",
       "      <td>$9.99</td>\n",
       "      <td>073530498X</td>\n",
       "      <td>NaN</td>\n",
       "    </tr>\n",
       "  </tbody>\n",
       "</table>\n",
       "</div>"
      ],
      "text/plain": [
       "                                            category  \\\n",
       "0  ['Electronics', 'Accessories &amp; Supplies', ...   \n",
       "1  ['Electronics', 'GPS, Finders & Accessories', ...   \n",
       "2  ['Electronics', 'Computers &amp; Accessories',...   \n",
       "3  ['Electronics', 'eBook Readers &amp; Accessori...   \n",
       "4  ['Electronics', 'Camera &amp; Photo', 'Lightin...   \n",
       "\n",
       "                                               tech1  \\\n",
       "0                                                NaN   \n",
       "1                                                NaN   \n",
       "2   class=\"a-keyvalue prodDetTable\" role=\"present...   \n",
       "3   class=\"a-keyvalue prodDetTable\" role=\"present...   \n",
       "4                                                NaN   \n",
       "\n",
       "                                         description  fit  \\\n",
       "0  ['The CLIKR-5 UR5U-8780L remote control is des...  NaN   \n",
       "1  ['**** Shipped by 2-3 DAY UNITED STATES PRIORI...  NaN   \n",
       "2  ['Nook HD protective stand cover slim, smart a...  NaN   \n",
       "3  ['Original Barnes &amp; Noble Nook Color or Ta...  NaN   \n",
       "4                                           ['', '']  NaN   \n",
       "\n",
       "                                               title  \\\n",
       "0  CLIKR-5 Time Warner Cable Remote Control UR5U-...   \n",
       "1  Rand McNally 528881469 7-inch Intelliroute TND...   \n",
       "2  Nook Hd + 9-Inch Groovy Protective Stand Cover...   \n",
       "3  Barnes &amp; Noble Nook Color Tablet USB Cable...   \n",
       "4                         Vintage Camera Photo Album   \n",
       "\n",
       "                                            also_buy  \\\n",
       "0                       ['B06VTZK822', 'B00OSI6O7S']   \n",
       "1                                                 []   \n",
       "2  ['B00E9IKYKK', '1400699169', 'B00E9ISXPS', 'B0...   \n",
       "3                                                 []   \n",
       "4  ['1441310533', '1935414763', '1441317422', 'B0...   \n",
       "\n",
       "                                               image  \\\n",
       "0  ['https://images-na.ssl-images-amazon.com/imag...   \n",
       "1  ['https://images-na.ssl-images-amazon.com/imag...   \n",
       "2  ['https://images-na.ssl-images-amazon.com/imag...   \n",
       "3  ['https://images-na.ssl-images-amazon.com/imag...   \n",
       "4                                                 []   \n",
       "\n",
       "                                               tech2  \\\n",
       "0                                                NaN   \n",
       "1                                                NaN   \n",
       "2   class=\"a-keyvalue prodDetTable\" role=\"present...   \n",
       "3                                                NaN   \n",
       "4                                                NaN   \n",
       "\n",
       "                         brand  \\\n",
       "0                          URC   \n",
       "1                 Rand McNally   \n",
       "2                         Nook   \n",
       "3           Barnes &amp; Noble   \n",
       "4  Visit Amazon's Galison Page   \n",
       "\n",
       "                                             feature  \\\n",
       "0                    ['Instruction manual included']   \n",
       "1  ['Extra large 7-inch high-definition screen', ...   \n",
       "2  ['Custom designed for NOOK', 'Horizontal Viewi...   \n",
       "3  ['<span>\\n        BUY MORE AND SAVE! Purchase ...   \n",
       "4                                                 []   \n",
       "\n",
       "                                                rank  \\\n",
       "0  ['>#4,971 in Electronics &gt; Accessories &amp...   \n",
       "1  ['>#60 in Electronics > GPS & Navigation > Veh...   \n",
       "2  ['>#24,362 in Computers &amp; Accessories &gt;...   \n",
       "3  ['>#24 in Electronics &gt; eBook Readers &amp;...   \n",
       "4                                   3,298 in Books (   \n",
       "\n",
       "                                           also_view  \\\n",
       "0  ['B06VTZK822', 'B00OSI6O7S', 'B00KUL8O0W', 'B0...   \n",
       "1  ['B00RVGXZBM', 'B00N58RZ34', 'B07FKR7VZ4', 'B0...   \n",
       "2  ['B010CHS6PG', 'B00B8EG632', 'B01FY2BAYS', 'B0...   \n",
       "3  ['B01C31MQA0', 'B00AZRHYKW', 'B01MG3HKUX', 'B0...   \n",
       "4  ['1441310533', 'B01JAVJZ46', 'B00LJWNO7Y', 'B0...   \n",
       "\n",
       "                           main_cat  \\\n",
       "0                   All Electronics   \n",
       "1                   All Electronics   \n",
       "2                         Computers   \n",
       "3  Portable Audio &amp; Accessories   \n",
       "4                             Books   \n",
       "\n",
       "                                        similar_item              date  price  \\\n",
       "0   class=\"a-bordered a-horizontal-stripes  a-spa...  January 31, 2013    NaN   \n",
       "1                                                NaN    April 15, 2010    NaN   \n",
       "2   class=\"a-bordered a-horizontal-stripes  a-spa...    April 20, 2013    NaN   \n",
       "3                                                NaN    August 1, 2014  $6.04   \n",
       "4                                                NaN               NaN  $9.99   \n",
       "\n",
       "         asin details  \n",
       "0  0511189877     NaN  \n",
       "1  0528881469     NaN  \n",
       "2  0594450268     NaN  \n",
       "3  0594459451     NaN  \n",
       "4  073530498X     NaN  "
      ]
     },
     "execution_count": 21,
     "metadata": {},
     "output_type": "execute_result"
    }
   ],
   "source": [
    "m_df.head()"
   ]
  },
  {
   "cell_type": "code",
   "execution_count": 22,
   "metadata": {},
   "outputs": [
    {
     "data": {
      "text/plain": [
       "(58305, 18)"
      ]
     },
     "execution_count": 22,
     "metadata": {},
     "output_type": "execute_result"
    }
   ],
   "source": [
    "m_df.shape"
   ]
  },
  {
   "cell_type": "code",
   "execution_count": 23,
   "metadata": {},
   "outputs": [
    {
     "name": "stdout",
     "output_type": "stream",
     "text": [
      "<class 'pandas.core.frame.DataFrame'>\n",
      "RangeIndex: 58305 entries, 0 to 58304\n",
      "Data columns (total 18 columns):\n",
      " #   Column        Non-Null Count  Dtype \n",
      "---  ------        --------------  ----- \n",
      " 0   category      58305 non-null  object\n",
      " 1   tech1         15525 non-null  object\n",
      " 2   description   58305 non-null  object\n",
      " 3   fit           16 non-null     object\n",
      " 4   title         58305 non-null  object\n",
      " 5   also_buy      58305 non-null  object\n",
      " 6   image         58305 non-null  object\n",
      " 7   tech2         5171 non-null   object\n",
      " 8   brand         58212 non-null  object\n",
      " 9   feature       58305 non-null  object\n",
      " 10  rank          58305 non-null  object\n",
      " 11  also_view     58305 non-null  object\n",
      " 12  main_cat      58180 non-null  object\n",
      " 13  similar_item  42995 non-null  object\n",
      " 14  date          49378 non-null  object\n",
      " 15  price         42609 non-null  object\n",
      " 16  asin          58305 non-null  object\n",
      " 17  details       58283 non-null  object\n",
      "dtypes: object(18)\n",
      "memory usage: 8.0+ MB\n"
     ]
    }
   ],
   "source": [
    "m_df.info()"
   ]
  },
  {
   "cell_type": "markdown",
   "metadata": {},
   "source": [
    "### Missing Values"
   ]
  },
  {
   "cell_type": "code",
   "execution_count": 24,
   "metadata": {},
   "outputs": [
    {
     "data": {
      "text/plain": [
       "category            0\n",
       "tech1           42780\n",
       "description         0\n",
       "fit             58289\n",
       "title               0\n",
       "also_buy            0\n",
       "image               0\n",
       "tech2           53134\n",
       "brand              93\n",
       "feature             0\n",
       "rank                0\n",
       "also_view           0\n",
       "main_cat          125\n",
       "similar_item    15310\n",
       "date             8927\n",
       "price           15696\n",
       "asin                0\n",
       "details            22\n",
       "dtype: int64"
      ]
     },
     "execution_count": 24,
     "metadata": {},
     "output_type": "execute_result"
    }
   ],
   "source": [
    "m_df.isnull().sum()"
   ]
  },
  {
   "cell_type": "markdown",
   "metadata": {},
   "source": [
    "We want to use the titles and main categories of the items."
   ]
  },
  {
   "cell_type": "markdown",
   "metadata": {},
   "source": [
    "### Main Category"
   ]
  },
  {
   "cell_type": "code",
   "execution_count": 25,
   "metadata": {
    "scrolled": true
   },
   "outputs": [
    {
     "data": {
      "text/plain": [
       "Computers                                                                                                                                                                    18678\n",
       "Camera & Photo                                                                                                                                                               10285\n",
       "All Electronics                                                                                                                                                               8441\n",
       "Home Audio & Theater                                                                                                                                                          8426\n",
       "Cell Phones & Accessories                                                                                                                                                     4699\n",
       "Car Electronics                                                                                                                                                               1621\n",
       "Tools & Home Improvement                                                                                                                                                       854\n",
       "Sports & Outdoors                                                                                                                                                              660\n",
       "Office Products                                                                                                                                                                659\n",
       "Musical Instruments                                                                                                                                                            565\n",
       "Camera &amp; Photo                                                                                                                                                             432\n",
       "Home Audio &amp; Theater                                                                                                                                                       403\n",
       "Amazon Home                                                                                                                                                                    401\n",
       "Automotive                                                                                                                                                                     381\n",
       "Industrial & Scientific                                                                                                                                                        285\n",
       "GPS & Navigation                                                                                                                                                               275\n",
       "Amazon Devices                                                                                                                                                                 216\n",
       "Portable Audio & Accessories                                                                                                                                                   183\n",
       "Health & Personal Care                                                                                                                                                         150\n",
       "<img src=\"https://images-na.ssl-images-amazon.com/images/G/01/nav2/images/gui/amazon-fashion-store-new._CB520838675_.png\" class=\"nav-categ-image\" alt=\"AMAZON FASHION\"/>        98\n",
       "Toys & Games                                                                                                                                                                    86\n",
       "Video Games                                                                                                                                                                     78\n",
       "Arts, Crafts & Sewing                                                                                                                                                           77\n",
       "Cell Phones &amp; Accessories                                                                                                                                                   46\n",
       "Tools &amp; Home Improvement                                                                                                                                                    38\n",
       "Baby                                                                                                                                                                            24\n",
       "All Beauty                                                                                                                                                                      24\n",
       "Sports &amp; Outdoors                                                                                                                                                           22\n",
       "Books                                                                                                                                                                           11\n",
       "Pet Supplies                                                                                                                                                                    11\n",
       "Amazon Fire TV                                                                                                                                                                  10\n",
       "Apple Products                                                                                                                                                                   9\n",
       "Industrial &amp; Scientific                                                                                                                                                      9\n",
       "Appliances                                                                                                                                                                       8\n",
       "Portable Audio &amp; Accessories                                                                                                                                                 5\n",
       "Software                                                                                                                                                                         4\n",
       "<img src=\"https://images-na.ssl-images-amazon.com/images/G/01/nav2/images/gui/amazon-fashion-store-new._CB520838675_.png\" class=\"nav-categ-image\" alt=\"AMAZON FASHION\" />        2\n",
       "GPS &amp; Navigation                                                                                                                                                             1\n",
       "Grocery                                                                                                                                                                          1\n",
       "<img src=\"https://m.media-amazon.com/images/G/01/nav2/images/gui/amazon-fashion-store-new._CB520838675_.png\" class=\"nav-categ-image\" alt=\"AMAZON FASHION\"/>                      1\n",
       "Gift Cards                                                                                                                                                                       1\n",
       "Name: main_cat, dtype: int64"
      ]
     },
     "execution_count": 25,
     "metadata": {},
     "output_type": "execute_result"
    }
   ],
   "source": [
    "m_df['main_cat'].value_counts()"
   ]
  },
  {
   "cell_type": "markdown",
   "metadata": {},
   "source": [
    "We noticed that there are certain categories which contain the image urls and should remove them."
   ]
  },
  {
   "cell_type": "code",
   "execution_count": 26,
   "metadata": {},
   "outputs": [
    {
     "data": {
      "text/plain": [
       "101"
      ]
     },
     "execution_count": 26,
     "metadata": {},
     "output_type": "execute_result"
    }
   ],
   "source": [
    "# Checking the number of entries with the image urls\n",
    "m_df['main_cat'].str.startswith('<img').sum()"
   ]
  },
  {
   "cell_type": "code",
   "execution_count": 43,
   "metadata": {
    "scrolled": true
   },
   "outputs": [],
   "source": [
    "# Filtering out the rows with image urls\n",
    "m_df = m_df.loc[m_df['main_cat'].str.startswith('<img')==False]"
   ]
  },
  {
   "cell_type": "code",
   "execution_count": 44,
   "metadata": {},
   "outputs": [
    {
     "data": {
      "text/plain": [
       "0"
      ]
     },
     "execution_count": 44,
     "metadata": {},
     "output_type": "execute_result"
    }
   ],
   "source": [
    "m_df['main_cat'].str.startswith('<img').sum()"
   ]
  },
  {
   "cell_type": "code",
   "execution_count": 62,
   "metadata": {},
   "outputs": [],
   "source": [
    "# Extract the columns of concern\n",
    "categories = m_df[['title', 'main_cat', 'asin']].copy()"
   ]
  },
  {
   "cell_type": "code",
   "execution_count": 63,
   "metadata": {},
   "outputs": [
    {
     "data": {
      "text/plain": [
       "(58079, 3)"
      ]
     },
     "execution_count": 63,
     "metadata": {},
     "output_type": "execute_result"
    }
   ],
   "source": [
    "categories.shape"
   ]
  },
  {
   "cell_type": "code",
   "execution_count": 64,
   "metadata": {},
   "outputs": [],
   "source": [
    "# Save cleaned dataset as a pickle file\n",
    "outfile = open('../datasets/amazon_reviews_electronics/Electronics_categories_2018.pkl','wb')\n",
    "pickle.dump(categories, outfile)\n",
    "outfile.close()"
   ]
  },
  {
   "cell_type": "markdown",
   "metadata": {},
   "source": [
    "## Combine Meta Data with Reviews"
   ]
  },
  {
   "cell_type": "code",
   "execution_count": 65,
   "metadata": {},
   "outputs": [],
   "source": [
    "# Merging dataframes\n",
    "combined_df = reviews.merge(categories, how='left', on='asin')"
   ]
  },
  {
   "cell_type": "code",
   "execution_count": 66,
   "metadata": {},
   "outputs": [
    {
     "data": {
      "text/plain": [
       "(385515, 9)"
      ]
     },
     "execution_count": 66,
     "metadata": {},
     "output_type": "execute_result"
    }
   ],
   "source": [
    "combined_df.shape"
   ]
  },
  {
   "cell_type": "code",
   "execution_count": 67,
   "metadata": {},
   "outputs": [
    {
     "data": {
      "text/plain": [
       "overall              0\n",
       "reviewTime           0\n",
       "reviewerID           0\n",
       "asin                 0\n",
       "reviewText           0\n",
       "summary              0\n",
       "unixReviewTime       0\n",
       "title             1266\n",
       "main_cat          1266\n",
       "dtype: int64"
      ]
     },
     "execution_count": 67,
     "metadata": {},
     "output_type": "execute_result"
    }
   ],
   "source": [
    "combined_df.isnull().sum()"
   ]
  },
  {
   "cell_type": "code",
   "execution_count": 69,
   "metadata": {},
   "outputs": [
    {
     "data": {
      "text/html": [
       "<div>\n",
       "<style scoped>\n",
       "    .dataframe tbody tr th:only-of-type {\n",
       "        vertical-align: middle;\n",
       "    }\n",
       "\n",
       "    .dataframe tbody tr th {\n",
       "        vertical-align: top;\n",
       "    }\n",
       "\n",
       "    .dataframe thead th {\n",
       "        text-align: right;\n",
       "    }\n",
       "</style>\n",
       "<table border=\"1\" class=\"dataframe\">\n",
       "  <thead>\n",
       "    <tr style=\"text-align: right;\">\n",
       "      <th></th>\n",
       "      <th>overall</th>\n",
       "      <th>reviewTime</th>\n",
       "      <th>reviewerID</th>\n",
       "      <th>asin</th>\n",
       "      <th>reviewText</th>\n",
       "      <th>summary</th>\n",
       "      <th>unixReviewTime</th>\n",
       "      <th>title</th>\n",
       "      <th>main_cat</th>\n",
       "    </tr>\n",
       "  </thead>\n",
       "  <tbody>\n",
       "    <tr>\n",
       "      <th>0</th>\n",
       "      <td>5.0</td>\n",
       "      <td>01 27, 2018</td>\n",
       "      <td>A1XSPKZ8HHSBX2</td>\n",
       "      <td>073530498X</td>\n",
       "      <td>I made a photo album for a senior friend who w...</td>\n",
       "      <td>great buy</td>\n",
       "      <td>1517011200</td>\n",
       "      <td>Vintage Camera Photo Album</td>\n",
       "      <td>Books</td>\n",
       "    </tr>\n",
       "    <tr>\n",
       "      <th>1</th>\n",
       "      <td>5.0</td>\n",
       "      <td>04 1, 2018</td>\n",
       "      <td>A3G5NNV6T6JA8J</td>\n",
       "      <td>106171327X</td>\n",
       "      <td>Great addition to our new Galaxy S9's which, b...</td>\n",
       "      <td>Great addition to our new Galaxy S9's which</td>\n",
       "      <td>1522540800</td>\n",
       "      <td>Sandisk SDSDQUA-064G-A11 Professional Ultra 64...</td>\n",
       "      <td>Computers</td>\n",
       "    </tr>\n",
       "    <tr>\n",
       "      <th>2</th>\n",
       "      <td>5.0</td>\n",
       "      <td>03 30, 2018</td>\n",
       "      <td>AFML7PYI3LERI</td>\n",
       "      <td>106171327X</td>\n",
       "      <td>Perfect !</td>\n",
       "      <td>Five Stars</td>\n",
       "      <td>1522368000</td>\n",
       "      <td>Sandisk SDSDQUA-064G-A11 Professional Ultra 64...</td>\n",
       "      <td>Computers</td>\n",
       "    </tr>\n",
       "    <tr>\n",
       "      <th>3</th>\n",
       "      <td>4.0</td>\n",
       "      <td>03 30, 2018</td>\n",
       "      <td>A1G0HYMR02WM2W</td>\n",
       "      <td>106171327X</td>\n",
       "      <td>As described.</td>\n",
       "      <td>Four Stars</td>\n",
       "      <td>1522368000</td>\n",
       "      <td>Sandisk SDSDQUA-064G-A11 Professional Ultra 64...</td>\n",
       "      <td>Computers</td>\n",
       "    </tr>\n",
       "    <tr>\n",
       "      <th>4</th>\n",
       "      <td>5.0</td>\n",
       "      <td>03 27, 2018</td>\n",
       "      <td>A1T8B3I8KRS3W0</td>\n",
       "      <td>106171327X</td>\n",
       "      <td>Great little card made my device better</td>\n",
       "      <td>Five Stars</td>\n",
       "      <td>1522108800</td>\n",
       "      <td>Sandisk SDSDQUA-064G-A11 Professional Ultra 64...</td>\n",
       "      <td>Computers</td>\n",
       "    </tr>\n",
       "    <tr>\n",
       "      <th>5</th>\n",
       "      <td>5.0</td>\n",
       "      <td>03 26, 2018</td>\n",
       "      <td>A3J18CDIQTMSY9</td>\n",
       "      <td>106171327X</td>\n",
       "      <td>Item as described.  Fast shipping.  A++</td>\n",
       "      <td>Five Stars</td>\n",
       "      <td>1522022400</td>\n",
       "      <td>Sandisk SDSDQUA-064G-A11 Professional Ultra 64...</td>\n",
       "      <td>Computers</td>\n",
       "    </tr>\n",
       "    <tr>\n",
       "      <th>6</th>\n",
       "      <td>5.0</td>\n",
       "      <td>03 10, 2018</td>\n",
       "      <td>A2Q85T9VJ6S1DL</td>\n",
       "      <td>106171327X</td>\n",
       "      <td>Great little card. Great storage and fast ship...</td>\n",
       "      <td>Great little card. Great storage</td>\n",
       "      <td>1520640000</td>\n",
       "      <td>Sandisk SDSDQUA-064G-A11 Professional Ultra 64...</td>\n",
       "      <td>Computers</td>\n",
       "    </tr>\n",
       "    <tr>\n",
       "      <th>7</th>\n",
       "      <td>4.0</td>\n",
       "      <td>03 9, 2018</td>\n",
       "      <td>A2L4NKP6PBIOFB</td>\n",
       "      <td>106171327X</td>\n",
       "      <td>Whatever i put on this memory it stayed unlike...</td>\n",
       "      <td>Four Stars</td>\n",
       "      <td>1520553600</td>\n",
       "      <td>Sandisk SDSDQUA-064G-A11 Professional Ultra 64...</td>\n",
       "      <td>Computers</td>\n",
       "    </tr>\n",
       "    <tr>\n",
       "      <th>8</th>\n",
       "      <td>5.0</td>\n",
       "      <td>03 7, 2018</td>\n",
       "      <td>A3ASS2MFJZC7XJ</td>\n",
       "      <td>106171327X</td>\n",
       "      <td>Sandisk is my favorite because of the company ...</td>\n",
       "      <td>Five Stars</td>\n",
       "      <td>1520380800</td>\n",
       "      <td>Sandisk SDSDQUA-064G-A11 Professional Ultra 64...</td>\n",
       "      <td>Computers</td>\n",
       "    </tr>\n",
       "    <tr>\n",
       "      <th>9</th>\n",
       "      <td>5.0</td>\n",
       "      <td>03 5, 2018</td>\n",
       "      <td>A29QUPMRMIQHLT</td>\n",
       "      <td>106171327X</td>\n",
       "      <td>Great brand name. I have never had a problem w...</td>\n",
       "      <td>Five Stars</td>\n",
       "      <td>1520208000</td>\n",
       "      <td>Sandisk SDSDQUA-064G-A11 Professional Ultra 64...</td>\n",
       "      <td>Computers</td>\n",
       "    </tr>\n",
       "    <tr>\n",
       "      <th>10</th>\n",
       "      <td>5.0</td>\n",
       "      <td>02 28, 2018</td>\n",
       "      <td>A2T7D9P4TM7L83</td>\n",
       "      <td>106171327X</td>\n",
       "      <td>Good value</td>\n",
       "      <td>Five Stars</td>\n",
       "      <td>1519776000</td>\n",
       "      <td>Sandisk SDSDQUA-064G-A11 Professional Ultra 64...</td>\n",
       "      <td>Computers</td>\n",
       "    </tr>\n",
       "    <tr>\n",
       "      <th>11</th>\n",
       "      <td>5.0</td>\n",
       "      <td>02 28, 2018</td>\n",
       "      <td>AUGBCGUG05AH7</td>\n",
       "      <td>106171327X</td>\n",
       "      <td>was awesome untill it caught on fire,... proba...</td>\n",
       "      <td>id buy it again</td>\n",
       "      <td>1519776000</td>\n",
       "      <td>Sandisk SDSDQUA-064G-A11 Professional Ultra 64...</td>\n",
       "      <td>Computers</td>\n",
       "    </tr>\n",
       "    <tr>\n",
       "      <th>12</th>\n",
       "      <td>5.0</td>\n",
       "      <td>02 21, 2018</td>\n",
       "      <td>AMVDUH49AEPFH</td>\n",
       "      <td>106171327X</td>\n",
       "      <td>constantly needed more space until I bought th...</td>\n",
       "      <td>great price</td>\n",
       "      <td>1519171200</td>\n",
       "      <td>Sandisk SDSDQUA-064G-A11 Professional Ultra 64...</td>\n",
       "      <td>Computers</td>\n",
       "    </tr>\n",
       "    <tr>\n",
       "      <th>13</th>\n",
       "      <td>2.0</td>\n",
       "      <td>02 8, 2018</td>\n",
       "      <td>A3AQM5GA7LVDXG</td>\n",
       "      <td>106171327X</td>\n",
       "      <td>it really slow..can't save 4K on it..</td>\n",
       "      <td>it really slow.. can't save 4K on it ...</td>\n",
       "      <td>1518048000</td>\n",
       "      <td>Sandisk SDSDQUA-064G-A11 Professional Ultra 64...</td>\n",
       "      <td>Computers</td>\n",
       "    </tr>\n",
       "    <tr>\n",
       "      <th>14</th>\n",
       "      <td>5.0</td>\n",
       "      <td>02 7, 2018</td>\n",
       "      <td>AFBUFLBMYZL9</td>\n",
       "      <td>106171327X</td>\n",
       "      <td>Works well - quality product - Using it in my ...</td>\n",
       "      <td>Five Stars</td>\n",
       "      <td>1517961600</td>\n",
       "      <td>Sandisk SDSDQUA-064G-A11 Professional Ultra 64...</td>\n",
       "      <td>Computers</td>\n",
       "    </tr>\n",
       "  </tbody>\n",
       "</table>\n",
       "</div>"
      ],
      "text/plain": [
       "    overall   reviewTime      reviewerID        asin  \\\n",
       "0       5.0  01 27, 2018  A1XSPKZ8HHSBX2  073530498X   \n",
       "1       5.0   04 1, 2018  A3G5NNV6T6JA8J  106171327X   \n",
       "2       5.0  03 30, 2018   AFML7PYI3LERI  106171327X   \n",
       "3       4.0  03 30, 2018  A1G0HYMR02WM2W  106171327X   \n",
       "4       5.0  03 27, 2018  A1T8B3I8KRS3W0  106171327X   \n",
       "5       5.0  03 26, 2018  A3J18CDIQTMSY9  106171327X   \n",
       "6       5.0  03 10, 2018  A2Q85T9VJ6S1DL  106171327X   \n",
       "7       4.0   03 9, 2018  A2L4NKP6PBIOFB  106171327X   \n",
       "8       5.0   03 7, 2018  A3ASS2MFJZC7XJ  106171327X   \n",
       "9       5.0   03 5, 2018  A29QUPMRMIQHLT  106171327X   \n",
       "10      5.0  02 28, 2018  A2T7D9P4TM7L83  106171327X   \n",
       "11      5.0  02 28, 2018   AUGBCGUG05AH7  106171327X   \n",
       "12      5.0  02 21, 2018   AMVDUH49AEPFH  106171327X   \n",
       "13      2.0   02 8, 2018  A3AQM5GA7LVDXG  106171327X   \n",
       "14      5.0   02 7, 2018    AFBUFLBMYZL9  106171327X   \n",
       "\n",
       "                                           reviewText  \\\n",
       "0   I made a photo album for a senior friend who w...   \n",
       "1   Great addition to our new Galaxy S9's which, b...   \n",
       "2                                           Perfect !   \n",
       "3                                       As described.   \n",
       "4             Great little card made my device better   \n",
       "5             Item as described.  Fast shipping.  A++   \n",
       "6   Great little card. Great storage and fast ship...   \n",
       "7   Whatever i put on this memory it stayed unlike...   \n",
       "8   Sandisk is my favorite because of the company ...   \n",
       "9   Great brand name. I have never had a problem w...   \n",
       "10                                         Good value   \n",
       "11  was awesome untill it caught on fire,... proba...   \n",
       "12  constantly needed more space until I bought th...   \n",
       "13              it really slow..can't save 4K on it..   \n",
       "14  Works well - quality product - Using it in my ...   \n",
       "\n",
       "                                        summary  unixReviewTime  \\\n",
       "0                                     great buy      1517011200   \n",
       "1   Great addition to our new Galaxy S9's which      1522540800   \n",
       "2                                    Five Stars      1522368000   \n",
       "3                                    Four Stars      1522368000   \n",
       "4                                    Five Stars      1522108800   \n",
       "5                                    Five Stars      1522022400   \n",
       "6              Great little card. Great storage      1520640000   \n",
       "7                                    Four Stars      1520553600   \n",
       "8                                    Five Stars      1520380800   \n",
       "9                                    Five Stars      1520208000   \n",
       "10                                   Five Stars      1519776000   \n",
       "11                              id buy it again      1519776000   \n",
       "12                                  great price      1519171200   \n",
       "13     it really slow.. can't save 4K on it ...      1518048000   \n",
       "14                                   Five Stars      1517961600   \n",
       "\n",
       "                                                title   main_cat  \n",
       "0                          Vintage Camera Photo Album      Books  \n",
       "1   Sandisk SDSDQUA-064G-A11 Professional Ultra 64...  Computers  \n",
       "2   Sandisk SDSDQUA-064G-A11 Professional Ultra 64...  Computers  \n",
       "3   Sandisk SDSDQUA-064G-A11 Professional Ultra 64...  Computers  \n",
       "4   Sandisk SDSDQUA-064G-A11 Professional Ultra 64...  Computers  \n",
       "5   Sandisk SDSDQUA-064G-A11 Professional Ultra 64...  Computers  \n",
       "6   Sandisk SDSDQUA-064G-A11 Professional Ultra 64...  Computers  \n",
       "7   Sandisk SDSDQUA-064G-A11 Professional Ultra 64...  Computers  \n",
       "8   Sandisk SDSDQUA-064G-A11 Professional Ultra 64...  Computers  \n",
       "9   Sandisk SDSDQUA-064G-A11 Professional Ultra 64...  Computers  \n",
       "10  Sandisk SDSDQUA-064G-A11 Professional Ultra 64...  Computers  \n",
       "11  Sandisk SDSDQUA-064G-A11 Professional Ultra 64...  Computers  \n",
       "12  Sandisk SDSDQUA-064G-A11 Professional Ultra 64...  Computers  \n",
       "13  Sandisk SDSDQUA-064G-A11 Professional Ultra 64...  Computers  \n",
       "14  Sandisk SDSDQUA-064G-A11 Professional Ultra 64...  Computers  "
      ]
     },
     "execution_count": 69,
     "metadata": {},
     "output_type": "execute_result"
    }
   ],
   "source": [
    "combined_df.head(15)"
   ]
  },
  {
   "cell_type": "code",
   "execution_count": 71,
   "metadata": {},
   "outputs": [],
   "source": [
    "# Save combined dataset as a pickle file\n",
    "outfile = open('../datasets/amazon_reviews_electronics/Electronics_merged_2018.pkl','wb')\n",
    "pickle.dump(combined_df, outfile)\n",
    "outfile.close()"
   ]
  },
  {
   "cell_type": "code",
   "execution_count": null,
   "metadata": {},
   "outputs": [],
   "source": []
  }
 ],
 "metadata": {
  "kernelspec": {
   "display_name": "Python 3",
   "language": "python",
   "name": "python3"
  },
  "language_info": {
   "codemirror_mode": {
    "name": "ipython",
    "version": 3
   },
   "file_extension": ".py",
   "mimetype": "text/x-python",
   "name": "python",
   "nbconvert_exporter": "python",
   "pygments_lexer": "ipython3",
   "version": "3.7.6"
  }
 },
 "nbformat": 4,
 "nbformat_minor": 4
}
